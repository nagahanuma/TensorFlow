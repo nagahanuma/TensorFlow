{
  "nbformat": 4,
  "nbformat_minor": 0,
  "metadata": {
    "colab": {
      "provenance": [],
      "authorship_tag": "ABX9TyOFlpv5vdphDPYydMX274qq",
      "include_colab_link": true
    },
    "kernelspec": {
      "name": "python3",
      "display_name": "Python 3"
    },
    "language_info": {
      "name": "python"
    }
  },
  "cells": [
    {
      "cell_type": "markdown",
      "metadata": {
        "id": "view-in-github",
        "colab_type": "text"
      },
      "source": [
        "<a href=\"https://colab.research.google.com/github/nagahanuma/TensorFlow/blob/main/tensorflow_basics.ipynb\" target=\"_parent\"><img src=\"https://colab.research.google.com/assets/colab-badge.svg\" alt=\"Open In Colab\"/></a>"
      ]
    },
    {
      "cell_type": "code",
      "execution_count": 1,
      "metadata": {
        "id": "tk0MZRnYTg4p"
      },
      "outputs": [],
      "source": [
        "import tensorflow as tf"
      ]
    },
    {
      "cell_type": "code",
      "source": [
        "import numpy as np\n",
        "import logging\n",
        "logger = tf.get_logger()\n",
        "logger.setLevel(logging.ERROR)"
      ],
      "metadata": {
        "id": "hIsjj6-UTpo4"
      },
      "execution_count": 2,
      "outputs": []
    },
    {
      "cell_type": "code",
      "source": [
        "cq= np.array([-40, -10, 0, 8, 15, 22, 38], dtype=float)\n",
        "fq= np.array([-40, 14, 32, 46, 59, 72, 100], dtype=float)\n",
        "for i,c in enumerate(cq):\n",
        "  print(c,fq[i])"
      ],
      "metadata": {
        "colab": {
          "base_uri": "https://localhost:8080/"
        },
        "id": "0zJ9t0WrT87d",
        "outputId": "4e4194f9-3509-4495-847c-eedd2a3e90e3"
      },
      "execution_count": 3,
      "outputs": [
        {
          "output_type": "stream",
          "name": "stdout",
          "text": [
            "-40.0 -40.0\n",
            "-10.0 14.0\n",
            "0.0 32.0\n",
            "8.0 46.0\n",
            "15.0 59.0\n",
            "22.0 72.0\n",
            "38.0 100.0\n"
          ]
        }
      ]
    },
    {
      "cell_type": "code",
      "source": [
        "l0=tf.keras.layers.Dense(units=1, input_shape=[1])"
      ],
      "metadata": {
        "id": "Zb2v57lc5mVR"
      },
      "execution_count": 4,
      "outputs": []
    },
    {
      "cell_type": "code",
      "source": [
        "model = tf.keras.Sequential([l0])"
      ],
      "metadata": {
        "id": "5r5x4bqK6b5d"
      },
      "execution_count": 5,
      "outputs": []
    },
    {
      "cell_type": "code",
      "source": [
        "#model.compile(loss='mean_squared_error',optimizer=tf.keras.Adam(0.1))"
      ],
      "metadata": {
        "id": "O4JEzocJ7BUl"
      },
      "execution_count": null,
      "outputs": []
    },
    {
      "cell_type": "code",
      "source": [
        "model.compile(loss='mean_squared_error', optimizer = tf.keras.optimizers.Adam(0.1))"
      ],
      "metadata": {
        "id": "5cwpdF3v7S3k"
      },
      "execution_count": 6,
      "outputs": []
    },
    {
      "cell_type": "code",
      "source": [
        "hist = model.fit(cq,fq, epochs=500, verbose=False)\n",
        "print(\"model completed\")"
      ],
      "metadata": {
        "colab": {
          "base_uri": "https://localhost:8080/"
        },
        "id": "g1rA8qs0BdDv",
        "outputId": "1f628042-79b4-4471-b0c5-efc3ba2a5694"
      },
      "execution_count": 12,
      "outputs": [
        {
          "output_type": "stream",
          "name": "stdout",
          "text": [
            "model completed\n"
          ]
        }
      ]
    },
    {
      "cell_type": "code",
      "source": [
        "import matplotlib.pyplot as plt\n",
        "plt.xlabel('epoch number')\n",
        "plt.ylabel('Loss')\n",
        "plt.plot(hist.history['loss'])"
      ],
      "metadata": {
        "colab": {
          "base_uri": "https://localhost:8080/",
          "height": 466
        },
        "id": "ubfsN0oAB853",
        "outputId": "32a8e741-620a-43fe-a3f2-24c6b3f9ca2f"
      },
      "execution_count": 15,
      "outputs": [
        {
          "output_type": "execute_result",
          "data": {
            "text/plain": [
              "[<matplotlib.lines.Line2D at 0x7f699f75bcd0>]"
            ]
          },
          "metadata": {},
          "execution_count": 15
        },
        {
          "output_type": "display_data",
          "data": {
            "text/plain": [
              "<Figure size 640x480 with 1 Axes>"
            ],
            "image/png": "[encoded data removed]"
          },
          "metadata": {}
        }
      ]
    },
    {
      "cell_type": "code",
      "source": [
        "print(model.predict([100]))"
      ],
      "metadata": {
        "colab": {
          "base_uri": "https://localhost:8080/"
        },
        "id": "0nRhhSO2Cga9",
        "outputId": "d97cb99a-88b6-448f-a308-3c18413995fc"
      },
      "execution_count": 16,
      "outputs": [
        {
          "output_type": "stream",
          "name": "stdout",
          "text": [
            "1/1 [==============================] - 0s 91ms/step\n",
            "[[211.74742]]\n"
          ]
        }
      ]
    },
    {
      "cell_type": "code",
      "source": [
        "print(l0.get_weights())"
      ],
      "metadata": {
        "colab": {
          "base_uri": "https://localhost:8080/"
        },
        "id": "CT1pG0Y8CtOi",
        "outputId": "f2dec6fe-e337-4287-f9c3-059bc2cc2a73"
      },
      "execution_count": 17,
      "outputs": [
        {
          "output_type": "stream",
          "name": "stdout",
          "text": [
            "[array([[1.7979496]], dtype=float32), array([31.952475], dtype=float32)]\n"
          ]
        }
      ]
    },
    {
      "cell_type": "code",
      "source": [
        "l0 = tf.keras.layers.Dense(units=4, input_shape=[1])\n",
        "l1 = tf.keras.layers.Dense(units=4)\n",
        "l2 = tf.keras.layers.Dense(units=1)\n",
        "model = tf.keras.Sequential([l0, l1, l2])\n",
        "model.compile(loss='mean_squared_error',optimizer = tf.keras.optimizers.Adam(0.1))\n",
        "model.fit(cq,fq,epochs=500, verbose=False)\n",
        "print(model.predict([100.0]))\n",
        "print(l0.get_weights())\n",
        "print(l1.get_weights())\n",
        "print(l2.get_weights())\n"
      ],
      "metadata": {
        "colab": {
          "base_uri": "https://localhost:8080/"
        },
        "id": "vugehtigD-kZ",
        "outputId": "71efbcef-d38a-41ac-ab39-0f92576f5697"
      },
      "execution_count": 21,
      "outputs": [
        {
          "output_type": "stream",
          "name": "stdout",
          "text": [
            "1/1 [==============================] - 0s 74ms/step\n",
            "[[211.74733]]\n",
            "[array([[-0.24607149, -0.7394838 , -0.00899431, -0.33210507]],\n",
            "      dtype=float32), array([-2.7901099, -2.7762835,  2.426262 , -2.7840457], dtype=float32)]\n",
            "[array([[ 0.40534648, -0.69728965,  0.65881515, -0.9295575 ],\n",
            "       [-0.20147021, -0.4629445 , -0.49248603, -0.10351135],\n",
            "       [-0.03289456,  0.8239318 ,  1.045552  ,  1.5480176 ],\n",
            "       [ 0.0475484 , -0.99513173, -0.4741979 , -1.0388606 ]],\n",
            "      dtype=float32), array([0.02592954, 2.8422632 , 2.5499864 , 2.8322499 ], dtype=float32)]\n",
            "[array([[-0.03590089],\n",
            "       [ 0.9328858 ],\n",
            "       [ 0.9260515 ],\n",
            "       [ 1.090682  ]], dtype=float32), array([2.8310127], dtype=float32)]\n"
          ]
        }
      ]
    }
  ]
}